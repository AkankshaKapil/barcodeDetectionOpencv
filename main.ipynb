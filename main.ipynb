{
 "cells": [
  {
   "cell_type": "code",
   "execution_count": 2,
   "metadata": {},
   "outputs": [
    {
     "name": "stdout",
     "output_type": "stream",
     "text": [
      "Requirement already satisfied: imutils in c:\\projects\\opencv\\barcodedetectionopencv\\barcodedetectionopencv\\lib\\site-packages (0.5.4)\n",
      "Requirement already satisfied: opencv-python in c:\\projects\\opencv\\barcodedetectionopencv\\barcodedetectionopencv\\lib\\site-packages (4.7.0.72)\n",
      "Requirement already satisfied: numpy>=1.17.3 in c:\\projects\\opencv\\barcodedetectionopencv\\barcodedetectionopencv\\lib\\site-packages (from opencv-python) (1.24.3)\n"
     ]
    },
    {
     "name": "stderr",
     "output_type": "stream",
     "text": [
      "\n",
      "[notice] A new release of pip available: 22.2.1 -> 23.1.2\n",
      "[notice] To update, run: python.exe -m pip install --upgrade pip\n"
     ]
    }
   ],
   "source": [
    "!pip install imutils opencv-python\n",
    "q"
   ]
  },
  {
   "attachments": {},
   "cell_type": "markdown",
   "metadata": {},
   "source": [
    "## Importing libraries"
   ]
  },
  {
   "cell_type": "code",
   "execution_count": 3,
   "metadata": {},
   "outputs": [],
   "source": [
    "import numpy as np\n",
    "import cv2\n",
    "import imutils"
   ]
  },
  {
   "attachments": {},
   "cell_type": "markdown",
   "metadata": {},
   "source": [
    "# Loading the image and converting it to grayscale"
   ]
  },
  {
   "cell_type": "code",
   "execution_count": 4,
   "metadata": {},
   "outputs": [],
   "source": [
    "# image=cv2.imread(f\"download.jpg\")\n",
    "image=cv2.imread(f\"test2.webp\")\n",
    "gray = cv2.cvtColor(image ,cv2.COLOR_BGR2GRAY)#converting bgr to gray color\n",
    "#Sobel operator is a spatial filter used to perform edge detection on an image.\n",
    "ddepth = cv2.cv.CV_32F if imutils.is_cv2() else cv2.CV_32F\n",
    "gradX = cv2.Sobel(gray, ddepth=ddepth, dx=1, dy=0, ksize=-1)\n",
    "gradY = cv2.Sobel(gray, ddepth=ddepth, dx=0, dy=1, ksize=-1)\n",
    "\n",
    "# subtract the y-gradient from the x-gradient\n",
    "gradient = cv2.subtract(gradX, gradY)\n",
    "gradient = cv2.convertScaleAbs(gradient)"
   ]
  },
  {
   "attachments": {},
   "cell_type": "markdown",
   "metadata": {},
   "source": [
    "# Applying morphological operations"
   ]
  },
  {
   "cell_type": "code",
   "execution_count": 5,
   "metadata": {},
   "outputs": [],
   "source": [
    "blurred = cv2.blur(gradient, (9, 9))#the kernel size is 9 x 9\n",
    "(_, thresh) = cv2.threshold(blurred, 225, 255, cv2.THRESH_BINARY)\n",
    "#any pixel not greater than 255 is set to black and or else white\n",
    "\n",
    "kernel = cv2.getStructuringElement(cv2.MORPH_RECT, (21, 7))#constructing a rectangular kernel\n",
    "\n",
    "# After experimenting various erode dilate combinations this is the best possible solution\n",
    "closed = cv2.dilate(thresh, kernel, iterations = 1)\n",
    "closed = cv2.erode(closed, kernel, iterations = 1)#erode is used to remove the small noise and smooth the boundaries of the objects in an image\n",
    "\n",
    "closed = cv2.erode(closed, None, iterations = 4)#erode white pixel in the image \n",
    "closed = cv2.dilate(closed, None, iterations = 4)#restore the original size of the image after erosion"
   ]
  },
  {
   "attachments": {},
   "cell_type": "markdown",
   "metadata": {},
   "source": [
    "# Finding Contours"
   ]
  },
  {
   "cell_type": "code",
   "execution_count": 6,
   "metadata": {},
   "outputs": [
    {
     "name": "stderr",
     "output_type": "stream",
     "text": [
      "C:\\Users\\Akanksha\\AppData\\Local\\Temp\\ipykernel_9144\\1141770044.py:8: DeprecationWarning: `np.int0` is a deprecated alias for `np.intp`.  (Deprecated NumPy 1.24)\n",
      "  box = np.int0(box)\n"
     ]
    }
   ],
   "source": [
    "\n",
    "cnts = cv2.findContours(closed.copy(), cv2.RETR_EXTERNAL,\n",
    "\tcv2.CHAIN_APPROX_SIMPLE)#retrives only external outer contours\n",
    "cnts = imutils.grab_contours(cnts)\n",
    "c = sorted(cnts, key = cv2.contourArea, reverse = True)[0]\n",
    "\n",
    "rect = cv2.minAreaRect(c)#fiting a minimum bounding rect around a contour\n",
    "box = cv2.cv.BoxPoints(rect) if imutils.is_cv2() else cv2.boxPoints(rect)#finding vertices of the rectangle\n",
    "box = np.int0(box)\n",
    "\n",
    "cv2.drawContours(image, [box], -1, (0, 255, 0), 3)\n",
    "cv2.imshow(\"Image\",image)\n",
    "cv2.waitKey(0)\n",
    "cv2.destroyAllWindows()"
   ]
  },
  {
   "attachments": {},
   "cell_type": "markdown",
   "metadata": {},
   "source": [
    "# To run in webcam"
   ]
  },
  {
   "cell_type": "code",
   "execution_count": 7,
   "metadata": {},
   "outputs": [
    {
     "name": "stderr",
     "output_type": "stream",
     "text": [
      "C:\\Users\\Akanksha\\AppData\\Local\\Temp\\ipykernel_9144\\1204547589.py:40: DeprecationWarning: `np.int0` is a deprecated alias for `np.intp`.  (Deprecated NumPy 1.24)\n",
      "  box = np.int0(box)\n"
     ]
    }
   ],
   "source": [
    "import cv2\n",
    "import imutils\n",
    "import numpy as np\n",
    "cap = cv2.VideoCapture(0)\n",
    "while True:\n",
    "    ret, frame = cap.read()\n",
    "    \n",
    "\n",
    "    try:\n",
    "        gray = cv2.cvtColor(frame ,cv2.COLOR_BGR2GRAY)#converting bgr to gray color\n",
    "        #Sobel operator is a spatial filter used to perform edge detection on an frame.\n",
    "        ddepth = cv2.cv.CV_32F if imutils.is_cv2() else cv2.CV_32F\n",
    "        gradX = cv2.Sobel(gray, ddepth=ddepth, dx=1, dy=0, ksize=-1)\n",
    "        gradY = cv2.Sobel(gray, ddepth=ddepth, dx=0, dy=1, ksize=-1)\n",
    "\n",
    "        # subtract the y-gradient from the x-gradient\n",
    "        gradient = cv2.subtract(gradX, gradY)\n",
    "        gradient = cv2.convertScaleAbs(gradient)\n",
    "\n",
    "        blurred = cv2.blur(gradient, (9, 9))#the kernel size is 9 x 9\n",
    "        (_, thresh) = cv2.threshold(blurred, 225, 255, cv2.THRESH_BINARY)\n",
    "        #any pixel not greater than 255 is set to black and or else white\n",
    "\n",
    "        kernel = cv2.getStructuringElement(cv2.MORPH_RECT, (21, 7))#constructing a rectangular kernel\n",
    "\n",
    "        # After experimenting various erode dilate combinations this is the best possible solution\n",
    "        closed = cv2.dilate(thresh, kernel, iterations = 1)\n",
    "        closed = cv2.erode(closed, kernel, iterations = 1)#erode is used to remove the small noise and smooth the boundaries of the objects in an frame\n",
    "\n",
    "        closed = cv2.erode(closed, None, iterations = 4)#erode white pixel in the frame \n",
    "        closed = cv2.dilate(closed, None, iterations = 4)#restore the original size of the image after erosion\n",
    "\n",
    "        cnts = cv2.findContours(closed.copy(), cv2.RETR_EXTERNAL,\n",
    "        cv2.CHAIN_APPROX_SIMPLE)#retrives only external outer contours\n",
    "        cnts = imutils.grab_contours(cnts)\n",
    "        c = sorted(cnts, key = cv2.contourArea, reverse = True)[0]\n",
    "\n",
    "        rect = cv2.minAreaRect(c)#fiting a minimum bounding rect around a contour\n",
    "        box = cv2.cv.BoxPoints(rect) if imutils.is_cv2() else cv2.boxPoints(rect)#finding vertices of the rectangle\n",
    "        box = np.int0(box)\n",
    "\n",
    "        cv2.drawContours(frame, [box], -1, (0, 255, 0), 3)\n",
    "    except Exception as e:\n",
    "        pass\n",
    "    cv2.imshow('frame',frame)\n",
    "\n",
    "    if cv2.waitKey(1) & 0xFF == ord('q'):\n",
    "        break\n",
    "cap.release()\n",
    "cv2.destroyAllWindows()\n",
    "    \n"
   ]
  },
  {
   "cell_type": "code",
   "execution_count": null,
   "metadata": {},
   "outputs": [],
   "source": []
  }
 ],
 "metadata": {
  "kernelspec": {
   "display_name": "barcodeDetectionOpencv",
   "language": "python",
   "name": "python3"
  },
  "language_info": {
   "codemirror_mode": {
    "name": "ipython",
    "version": 3
   },
   "file_extension": ".py",
   "mimetype": "text/x-python",
   "name": "python",
   "nbconvert_exporter": "python",
   "pygments_lexer": "ipython3",
   "version": "3.10.6"
  },
  "orig_nbformat": 4
 },
 "nbformat": 4,
 "nbformat_minor": 2
}
